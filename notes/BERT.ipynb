{
 "cells": [
  {
   "cell_type": "markdown",
   "metadata": {},
   "source": [
    "# Bert Base:\n",
    "BERTBASE \n",
    "(L=12, H=768, A=12, Total Parameters=110M)"
   ]
  },
  {
   "cell_type": "code",
   "execution_count": 1,
   "metadata": {},
   "outputs": [],
   "source": [
    "import torch\n",
    "import torch.nn as nn\n",
    "import torch.nn.functional as F"
   ]
  },
  {
   "cell_type": "markdown",
   "metadata": {},
   "source": [
    "# Attention"
   ]
  },
  {
   "cell_type": "code",
   "execution_count": 15,
   "metadata": {},
   "outputs": [],
   "source": [
    "class MultiHeadedAttentionBERT(nn.Module):\n",
    "    def __init__(self, d_in, d_out, context_length, num_heads, dropout=None, qkv_bias=False):\n",
    "        super().__init__()\n",
    "        self.d_out = d_out\n",
    "        \n",
    "        assert d_out % num_heads == 0, \"embedding dimension must be divisible by number of heads\"\n",
    "\n",
    "        self.num_heads = num_heads\n",
    "        self.head_dim = d_out // num_heads\n",
    "\n",
    "        self.context_length = context_length\n",
    "\n",
    "        self.W_q = nn.Linear(d_in, d_out, bias=qkv_bias)\n",
    "        self.W_k = nn.Linear(d_in, d_out, bias=qkv_bias)\n",
    "        self.W_v = nn.Linear(d_in, d_out, bias=qkv_bias)\n",
    "\n",
    "        self.W_o = nn.Linear(d_out, d_out)\n",
    "\n",
    "        self.drop_out = nn.Dropout(dropout) if dropout is not None else None\n",
    "\n",
    "    def forward(self, x, mask=None):\n",
    "        '''\n",
    "        x: (batch_size, seq_len, d_in)\n",
    "        mask: (batch_size, seq_len)\n",
    "        '''\n",
    "        # x: (batch_size, seq_len, d_in)\n",
    "        batch_size, num_tokens, d_in = x.shape \n",
    "\n",
    "        queries = self.W_q(x) # (batch_size, seq_len, d_out)\n",
    "        keys = self.W_k(x) # (batch_size, seq_len, d_out)\n",
    "        values = self.W_v(x) # (batch_size, seq_len, d_out)\n",
    "\n",
    "        queries = queries.view(batch_size, num_tokens, self.num_heads, self.head_dim).transpose(1, 2) # batch_size, num_heads, num_tokens, head_dim\n",
    "        keys = keys.view(batch_size, num_tokens, self.num_heads, self.head_dim).transpose(1, 2)\n",
    "        values = values.view(batch_size, num_tokens, self.num_heads, self.head_dim).transpose(1, 2)\n",
    "\n",
    "\n",
    "        attn_scores = queries @ keys.transpose(2, 3)\n",
    "        attn_scores = attn_scores / (self.head_dim ** 0.5)\n",
    "        print(attn_scores.shape)\n",
    "        # masking tokens that are of padding sentence\n",
    "        if mask is not None:\n",
    "            mask = mask.unsqueeze(1) # adding num_heads dimension for broadcasting\n",
    "            attn_scores = attn_scores.masked_fill(mask == 0, -torch.inf)\n",
    "\n",
    "        \n",
    "\n",
    "        attn_scores = F.softmax(attn_scores, dim=-1)\n",
    "\n",
    "        if self.drop_out is not None:\n",
    "            attn_scores = self.drop_out(attn_scores)\n",
    "        \n",
    "        context = attn_scores @ values\n",
    "\n",
    "        context = context.transpose(1, 2).contiguous().view(batch_size, num_tokens, self.d_out)\n",
    "\n",
    "        context = self.W_o(context)\n",
    "\n",
    "        return context\n"
   ]
  },
  {
   "cell_type": "code",
   "execution_count": 23,
   "metadata": {},
   "outputs": [
    {
     "name": "stdout",
     "output_type": "stream",
     "text": [
      "torch.Size([2, 2, 8, 8])\n",
      "tensor([[[-0.1287,  0.4158,  0.4212, -0.4352],\n",
      "         [-0.1745,  0.3595,  0.4331, -0.4234],\n",
      "         [-0.1653,  0.4299,  0.3920, -0.4328],\n",
      "         [-0.2608,  0.5488,  0.2637, -0.4357],\n",
      "         [-0.2646,  0.6225,  0.2103, -0.4449],\n",
      "         [-0.1569,  0.3242,  0.4662, -0.4210],\n",
      "         [-0.1582,  0.4255,  0.3965, -0.4337],\n",
      "         [-0.3025,  0.6829,  0.1446, -0.4497]],\n",
      "\n",
      "        [[-0.1433,  0.3972,  0.4615, -0.4219],\n",
      "         [-0.1015,  0.3080,  0.4609, -0.4369],\n",
      "         [-0.0761,  0.1232,  0.6144, -0.4131],\n",
      "         [-0.1528,  0.3314,  0.3892, -0.4396],\n",
      "         [-0.1022,  0.2103,  0.5551, -0.4168],\n",
      "         [-0.1574,  0.3818,  0.3766, -0.4410],\n",
      "         [-0.0901,  0.1804,  0.5464, -0.4220],\n",
      "         [-0.1271,  0.3990,  0.3895, -0.4443]]], grad_fn=<ViewBackward0>)\n"
     ]
    }
   ],
   "source": [
    "test = MultiHeadedAttentionBERT(2, 4, 8, 2, 0.1)\n",
    "x = torch.randn(2, 8, 2)\n",
    "mask = torch.tensor([[1, 1, 1, 1, 0, 0, 0, 0], [1, 1, 1, 1, 1, 0, 0, 0]]) # masking the last 4 tokens in the first sentence, and the last 3 tokens in the second sentence\n",
    "print(test(x, mask))"
   ]
  },
  {
   "cell_type": "markdown",
   "metadata": {},
   "source": [
    "# Feed Forward"
   ]
  },
  {
   "cell_type": "code",
   "execution_count": 33,
   "metadata": {},
   "outputs": [],
   "source": [
    "class FeedForward(nn.Module):\n",
    "    def __init__(self, d_model, d_ff, dropout=0.1):\n",
    "        super().__init__()\n",
    "        self.fc1 = nn.Linear(d_model, d_ff)\n",
    "        self.fc2 = nn.Linear(d_ff, d_model)\n",
    "        self.dropout = nn.Dropout(dropout)\n",
    "    \n",
    "    def forward(self, x):\n",
    "        x = self.fc1(x)\n",
    "        x = F.gelu(x)\n",
    "        x = self.dropout(x)\n",
    "        x = self.fc2(x)\n",
    "        return x"
   ]
  },
  {
   "cell_type": "markdown",
   "metadata": {},
   "source": [
    "# Encoder Layer"
   ]
  },
  {
   "cell_type": "code",
   "execution_count": 34,
   "metadata": {},
   "outputs": [],
   "source": [
    "class EncoderLayer(nn.Module):\n",
    "    def __init__(self, d_model, context_length, num_heads, d_ff, dropout=0.1):\n",
    "        super().__init__()\n",
    "        self.multi_headed_attention = MultiHeadedAttentionBERT(d_model, d_model, context_length, num_heads, dropout=dropout)\n",
    "        self.feed_forward = FeedForward(d_model, d_ff, dropout=dropout)\n",
    "        self.norm1 = nn.LayerNorm(d_model)\n",
    "        self.norm2 = nn.LayerNorm(d_model)\n",
    "        self.dropout = nn.Dropout(dropout)\n",
    "    \n",
    "    def forward(self, x, mask):\n",
    "        x = self.norm1(x + self.dropout(self.multi_headed_attention(x, mask)))\n",
    "        x = self.norm2(x + self.dropout(self.feed_forward(x)))\n",
    "        return x\n"
   ]
  },
  {
   "cell_type": "markdown",
   "metadata": {},
   "source": [
    "# BERT"
   ]
  },
  {
   "cell_type": "code",
   "execution_count": 35,
   "metadata": {},
   "outputs": [
    {
     "name": "stdout",
     "output_type": "stream",
     "text": [
      "Total trainable parameters: 108864000\n"
     ]
    }
   ],
   "source": [
    "class BERT(nn.Module):\n",
    "    def __init__(self, vocab_size, d_model=768, num_heads=12, num_layers=12, d_ff=3072, max_seq_len=512, dropout=0.1):\n",
    "        super().__init__()\n",
    "        self.word_embeddings = nn.Embedding(vocab_size, d_model)\n",
    "        self.position_embeddings = nn.Embedding(max_seq_len, d_model)\n",
    "        self.token_type_embeddings = nn.Embedding(2, d_model) # # For [SEP] and [CLS] tokens\n",
    "\n",
    "        self.layers = nn.ModuleList([EncoderLayer(d_model, max_seq_len, num_heads, d_ff, dropout) for _ in range(num_layers)])\n",
    "\n",
    "        # Final normalization layer\n",
    "        self.layernorm = nn.LayerNorm(d_model)\n",
    "        self.dropout = nn.Dropout(dropout)\n",
    "\n",
    "\n",
    "    def forward(self, input_ids, token_type_ids=None, attention_mask=None):\n",
    "        '''\n",
    "        input_ids: (batch_size, seq_len)\n",
    "        token_type_ids: (batch_size, seq_len)\n",
    "        attention_mask: (batch_size, seq_len)\n",
    "        '''\n",
    "        batch_size, seq_len = input_ids.shape\n",
    "        position_ids = torch.arange(0, seq_len, dtype=torch.long, device=input_ids.device).unsqueeze(0).expand_as(input_ids)\n",
    "\n",
    "        # Word embeddings\n",
    "        word_embeddings = self.word_embeddings(input_ids)\n",
    "        position_embeddings = self.position_embeddings(position_ids)\n",
    "        token_type_embeddings = self.token_type_embeddings(token_type_ids)\n",
    "\n",
    "        embeddings = word_embeddings + position_embeddings + token_type_embeddings\n",
    "        embeddings = self.layernorm(embeddings)\n",
    "        embeddings = self.dropout(embeddings)\n",
    "\n",
    "\n",
    "        # Pass through the layers\n",
    "        for layer in self.layers:\n",
    "            embeddings = layer(embeddings, attention_mask)\n",
    "        \n",
    "        return embeddings\n",
    "    \n",
    "# Model parameters\n",
    "vocab_size = 30522  # Vocabulary size from BERT\n",
    "model = BERT(vocab_size)\n",
    "\n",
    "# # Dummy input (batch_size=2, seq_len=512)\n",
    "# input_ids = torch.randint(0, vocab_size, (2, 512))\n",
    "# token_type_ids = torch.zeros(2, 512, dtype=torch.long)  # All 0s for simplicity\n",
    "# attention_mask = torch.ones(2, 512)  # No padding, all attention is valid\n",
    "\n",
    "# # Forward pass\n",
    "# output = model(input_ids, token_type_ids, attention_mask)\n",
    "# print(output.shape)  # Should be [batch_size, seq_len, d_model]\n",
    "\n",
    "def count_parameters(model):\n",
    "    return sum(p.numel() for p in model.parameters() if p.requires_grad)\n",
    "\n",
    "# Ví dụ với mô hình BERT ở trên\n",
    "model = BERT(vocab_size=30522)  # Instantiate the BERT model\n",
    "num_params = count_parameters(model)\n",
    "print(f\"Total trainable parameters: {num_params}\")\n"
   ]
  },
  {
   "cell_type": "markdown",
   "metadata": {},
   "source": [
    "# Combined Codes"
   ]
  },
  {
   "cell_type": "code",
   "execution_count": 7,
   "metadata": {},
   "outputs": [
    {
     "name": "stdout",
     "output_type": "stream",
     "text": [
      "Total trainable parameters: 108891648\n"
     ]
    }
   ],
   "source": [
    "import torch\n",
    "import torch.nn as nn\n",
    "import torch.nn.functional as F\n",
    "\n",
    "class MultiHeadedSelfAttention(nn.Module):\n",
    "    def __init__(self, d_model, num_heads, dropout=0.1):\n",
    "        super(MultiHeadedSelfAttention, self).__init__()\n",
    "        assert d_model % num_heads == 0, \"Hidden size must be divisible by number of heads.\"\n",
    "        \n",
    "        self.num_heads = num_heads\n",
    "        self.head_dim = d_model // num_heads\n",
    "        \n",
    "        # Linear layers for query, key, value\n",
    "        self.query = nn.Linear(d_model, d_model)\n",
    "        self.key = nn.Linear(d_model, d_model)\n",
    "        self.value = nn.Linear(d_model, d_model)\n",
    "        \n",
    "        self.dropout = nn.Dropout(dropout)\n",
    "        self.out_proj = nn.Linear(d_model, d_model)\n",
    "    \n",
    "    def forward(self, x, mask=None):\n",
    "        batch_size, seq_len, d_model = x.shape\n",
    "        \n",
    "        # Linear projections\n",
    "        Q = self.query(x).view(batch_size, seq_len, self.num_heads, self.head_dim).transpose(1, 2)\n",
    "        K = self.key(x).view(batch_size, seq_len, self.num_heads, self.head_dim).transpose(1, 2)\n",
    "        V = self.value(x).view(batch_size, seq_len, self.num_heads, self.head_dim).transpose(1, 2)\n",
    "        \n",
    "        # Attention score computation\n",
    "        attn_scores = torch.matmul(Q, K.transpose(-1, -2)) / (self.head_dim ** 0.5)\n",
    "        \n",
    "        if mask is not None:\n",
    "            attn_scores = attn_scores.masked_fill(mask == 0, -torch.inf)\n",
    "        \n",
    "        attn_probs = F.softmax(attn_scores, dim=-1)\n",
    "        attn_probs = self.dropout(attn_probs)\n",
    "        \n",
    "        # Attention output\n",
    "        attn_output = torch.matmul(attn_probs, V)\n",
    "        attn_output = attn_output.transpose(1, 2).contiguous().view(batch_size, seq_len, d_model)\n",
    "        \n",
    "        # Final linear projection\n",
    "        output = self.out_proj(attn_output)\n",
    "        return output\n",
    "\n",
    "class FeedForwardNetwork(nn.Module):\n",
    "    def __init__(self, d_model, d_ff, dropout=0.1):\n",
    "        super(FeedForwardNetwork, self).__init__()\n",
    "        self.fc1 = nn.Linear(d_model, d_ff)\n",
    "        self.fc2 = nn.Linear(d_ff, d_model)\n",
    "        self.dropout = nn.Dropout(dropout)\n",
    "    \n",
    "    def forward(self, x):\n",
    "        x = self.fc1(x)\n",
    "        x = F.gelu(x)\n",
    "        x = self.dropout(x)\n",
    "        x = self.fc2(x)\n",
    "        return x\n",
    "\n",
    "class EncoderLayer(nn.Module):\n",
    "    def __init__(self, d_model, num_heads, d_ff, dropout=0.1):\n",
    "        super(EncoderLayer, self).__init__()\n",
    "        self.self_attn = MultiHeadedSelfAttention(d_model, num_heads, dropout)\n",
    "        self.ffn = FeedForwardNetwork(d_model, d_ff, dropout)\n",
    "        self.layernorm1 = nn.LayerNorm(d_model)\n",
    "        self.layernorm2 = nn.LayerNorm(d_model)\n",
    "        self.dropout = nn.Dropout(dropout)\n",
    "    \n",
    "    def forward(self, x, mask=None):\n",
    "        # Self-attention layer\n",
    "        attn_output = self.self_attn(x, mask)\n",
    "        x = self.layernorm1(x + attn_output)  # Add & Norm\n",
    "        \n",
    "        # Feed-Forward Network\n",
    "        ffn_output = self.ffn(x)\n",
    "        x = self.layernorm2(x + ffn_output)  # Add & Norm\n",
    "        return x\n",
    "\n",
    "class BERT(nn.Module):\n",
    "    def __init__(self, vocab_size, d_model=768, num_heads=12, num_layers=12, d_ff=3072, max_seq_len=512, dropout=0.1):\n",
    "        super(BERT, self).__init__()\n",
    "        # Embedding layers\n",
    "        self.word_embeddings = nn.Embedding(vocab_size, d_model)\n",
    "        self.position_embeddings = nn.Embedding(max_seq_len, d_model)\n",
    "        self.token_type_embeddings = nn.Embedding(2, d_model)  # For [SEP] and [CLS] tokens\n",
    "        \n",
    "        # Encoder layers\n",
    "        self.layers = nn.ModuleList([EncoderLayer(d_model, num_heads, d_ff, dropout) for _ in range(num_layers)])\n",
    "        \n",
    "        # Final normalization layer\n",
    "        self.layernorm = nn.LayerNorm(d_model)\n",
    "        self.dropout = nn.Dropout(dropout)\n",
    "    \n",
    "    def forward(self, input_ids, token_type_ids=None, attention_mask=None):\n",
    "        batch_size, seq_len = input_ids.shape\n",
    "        position_ids = torch.arange(0, seq_len, dtype=torch.long, device=input_ids.device).unsqueeze(0).expand_as(input_ids)\n",
    "        \n",
    "        # Word, position, and token type embeddings\n",
    "        word_embeddings = self.word_embeddings(input_ids)\n",
    "        position_embeddings = self.position_embeddings(position_ids)\n",
    "        token_type_embeddings = self.token_type_embeddings(token_type_ids) if token_type_ids is not None else 0\n",
    "        \n",
    "        embeddings = word_embeddings + position_embeddings + token_type_embeddings\n",
    "        embeddings = self.layernorm(embeddings)\n",
    "        embeddings = self.dropout(embeddings)\n",
    "        \n",
    "        # Pass through the layers\n",
    "        for layer in self.layers:\n",
    "            embeddings = layer(embeddings, attention_mask)\n",
    "        \n",
    "        return embeddings\n",
    "\n",
    "# Model parameters\n",
    "vocab_size = 30522  # Vocabulary size from BERT\n",
    "model = BERT(vocab_size)\n",
    "\n",
    "# # Dummy input (batch_size=2, seq_len=512)\n",
    "# input_ids = torch.randint(0, vocab_size, (2, 512))\n",
    "# token_type_ids = torch.zeros(2, 512, dtype=torch.long)  # All 0s for simplicity\n",
    "# attention_mask = torch.ones(2, 512)  # No padding, all attention is valid\n",
    "\n",
    "# # Forward pass\n",
    "# output = model(input_ids, token_type_ids, attention_mask)\n",
    "# print(output.shape)  # Should be [batch_size, seq_len, d_model]\n",
    "\n",
    "def count_parameters(model):\n",
    "    return sum(p.numel() for p in model.parameters() if p.requires_grad)\n",
    "\n",
    "\n",
    "model = BERT(vocab_size=30522)  # Instantiate the BERT model\n",
    "num_params = count_parameters(model)\n",
    "print(f\"Total trainable parameters: {num_params}\")"
   ]
  },
  {
   "cell_type": "code",
   "execution_count": 13,
   "metadata": {},
   "outputs": [
    {
     "name": "stdout",
     "output_type": "stream",
     "text": [
      "torch.Size([2, 8])\n"
     ]
    },
    {
     "ename": "RuntimeError",
     "evalue": "The size of tensor a (2) must match the size of tensor b (8) at non-singleton dimension 2",
     "output_type": "error",
     "traceback": [
      "\u001b[1;31m---------------------------------------------------------------------------\u001b[0m",
      "\u001b[1;31mRuntimeError\u001b[0m                              Traceback (most recent call last)",
      "Cell \u001b[1;32mIn[13], line 5\u001b[0m\n\u001b[0;32m      3\u001b[0m mask \u001b[38;5;241m=\u001b[39m torch\u001b[38;5;241m.\u001b[39mtensor([[\u001b[38;5;241m1\u001b[39m, \u001b[38;5;241m1\u001b[39m, \u001b[38;5;241m1\u001b[39m, \u001b[38;5;241m1\u001b[39m, \u001b[38;5;241m0\u001b[39m, \u001b[38;5;241m0\u001b[39m, \u001b[38;5;241m0\u001b[39m, \u001b[38;5;241m0\u001b[39m], [\u001b[38;5;241m1\u001b[39m, \u001b[38;5;241m1\u001b[39m, \u001b[38;5;241m1\u001b[39m, \u001b[38;5;241m1\u001b[39m, \u001b[38;5;241m1\u001b[39m, \u001b[38;5;241m0\u001b[39m, \u001b[38;5;241m0\u001b[39m, \u001b[38;5;241m0\u001b[39m]]) \u001b[38;5;66;03m# masking the last 4 tokens in the first sentence, and the last 3 tokens in the second sentence\u001b[39;00m\n\u001b[0;32m      4\u001b[0m \u001b[38;5;28mprint\u001b[39m(mask\u001b[38;5;241m.\u001b[39mshape)\n\u001b[1;32m----> 5\u001b[0m \u001b[38;5;28mprint\u001b[39m(\u001b[43mtest\u001b[49m\u001b[43m(\u001b[49m\u001b[43mx\u001b[49m\u001b[43m,\u001b[49m\u001b[43m \u001b[49m\u001b[43mmask\u001b[49m\u001b[43m)\u001b[49m)\n",
      "File \u001b[1;32md:\\Software Engineer\\Projects\\LLMs-from-scratch\\llms_rasbt\\Lib\\site-packages\\torch\\nn\\modules\\module.py:1553\u001b[0m, in \u001b[0;36mModule._wrapped_call_impl\u001b[1;34m(self, *args, **kwargs)\u001b[0m\n\u001b[0;32m   1551\u001b[0m     \u001b[38;5;28;01mreturn\u001b[39;00m \u001b[38;5;28mself\u001b[39m\u001b[38;5;241m.\u001b[39m_compiled_call_impl(\u001b[38;5;241m*\u001b[39margs, \u001b[38;5;241m*\u001b[39m\u001b[38;5;241m*\u001b[39mkwargs)  \u001b[38;5;66;03m# type: ignore[misc]\u001b[39;00m\n\u001b[0;32m   1552\u001b[0m \u001b[38;5;28;01melse\u001b[39;00m:\n\u001b[1;32m-> 1553\u001b[0m     \u001b[38;5;28;01mreturn\u001b[39;00m \u001b[38;5;28;43mself\u001b[39;49m\u001b[38;5;241;43m.\u001b[39;49m\u001b[43m_call_impl\u001b[49m\u001b[43m(\u001b[49m\u001b[38;5;241;43m*\u001b[39;49m\u001b[43margs\u001b[49m\u001b[43m,\u001b[49m\u001b[43m \u001b[49m\u001b[38;5;241;43m*\u001b[39;49m\u001b[38;5;241;43m*\u001b[39;49m\u001b[43mkwargs\u001b[49m\u001b[43m)\u001b[49m\n",
      "File \u001b[1;32md:\\Software Engineer\\Projects\\LLMs-from-scratch\\llms_rasbt\\Lib\\site-packages\\torch\\nn\\modules\\module.py:1562\u001b[0m, in \u001b[0;36mModule._call_impl\u001b[1;34m(self, *args, **kwargs)\u001b[0m\n\u001b[0;32m   1557\u001b[0m \u001b[38;5;66;03m# If we don't have any hooks, we want to skip the rest of the logic in\u001b[39;00m\n\u001b[0;32m   1558\u001b[0m \u001b[38;5;66;03m# this function, and just call forward.\u001b[39;00m\n\u001b[0;32m   1559\u001b[0m \u001b[38;5;28;01mif\u001b[39;00m \u001b[38;5;129;01mnot\u001b[39;00m (\u001b[38;5;28mself\u001b[39m\u001b[38;5;241m.\u001b[39m_backward_hooks \u001b[38;5;129;01mor\u001b[39;00m \u001b[38;5;28mself\u001b[39m\u001b[38;5;241m.\u001b[39m_backward_pre_hooks \u001b[38;5;129;01mor\u001b[39;00m \u001b[38;5;28mself\u001b[39m\u001b[38;5;241m.\u001b[39m_forward_hooks \u001b[38;5;129;01mor\u001b[39;00m \u001b[38;5;28mself\u001b[39m\u001b[38;5;241m.\u001b[39m_forward_pre_hooks\n\u001b[0;32m   1560\u001b[0m         \u001b[38;5;129;01mor\u001b[39;00m _global_backward_pre_hooks \u001b[38;5;129;01mor\u001b[39;00m _global_backward_hooks\n\u001b[0;32m   1561\u001b[0m         \u001b[38;5;129;01mor\u001b[39;00m _global_forward_hooks \u001b[38;5;129;01mor\u001b[39;00m _global_forward_pre_hooks):\n\u001b[1;32m-> 1562\u001b[0m     \u001b[38;5;28;01mreturn\u001b[39;00m \u001b[43mforward_call\u001b[49m\u001b[43m(\u001b[49m\u001b[38;5;241;43m*\u001b[39;49m\u001b[43margs\u001b[49m\u001b[43m,\u001b[49m\u001b[43m \u001b[49m\u001b[38;5;241;43m*\u001b[39;49m\u001b[38;5;241;43m*\u001b[39;49m\u001b[43mkwargs\u001b[49m\u001b[43m)\u001b[49m\n\u001b[0;32m   1564\u001b[0m \u001b[38;5;28;01mtry\u001b[39;00m:\n\u001b[0;32m   1565\u001b[0m     result \u001b[38;5;241m=\u001b[39m \u001b[38;5;28;01mNone\u001b[39;00m\n",
      "Cell \u001b[1;32mIn[7], line 33\u001b[0m, in \u001b[0;36mMultiHeadedSelfAttention.forward\u001b[1;34m(self, x, mask)\u001b[0m\n\u001b[0;32m     30\u001b[0m attn_scores \u001b[38;5;241m=\u001b[39m torch\u001b[38;5;241m.\u001b[39mmatmul(Q, K\u001b[38;5;241m.\u001b[39mtranspose(\u001b[38;5;241m-\u001b[39m\u001b[38;5;241m1\u001b[39m, \u001b[38;5;241m-\u001b[39m\u001b[38;5;241m2\u001b[39m)) \u001b[38;5;241m/\u001b[39m (\u001b[38;5;28mself\u001b[39m\u001b[38;5;241m.\u001b[39mhead_dim \u001b[38;5;241m*\u001b[39m\u001b[38;5;241m*\u001b[39m \u001b[38;5;241m0.5\u001b[39m)\n\u001b[0;32m     32\u001b[0m \u001b[38;5;28;01mif\u001b[39;00m mask \u001b[38;5;129;01mis\u001b[39;00m \u001b[38;5;129;01mnot\u001b[39;00m \u001b[38;5;28;01mNone\u001b[39;00m:\n\u001b[1;32m---> 33\u001b[0m     attn_scores \u001b[38;5;241m=\u001b[39m \u001b[43mattn_scores\u001b[49m\u001b[38;5;241;43m.\u001b[39;49m\u001b[43mmasked_fill\u001b[49m\u001b[43m(\u001b[49m\u001b[43mmask\u001b[49m\u001b[43m \u001b[49m\u001b[38;5;241;43m==\u001b[39;49m\u001b[43m \u001b[49m\u001b[38;5;241;43m0\u001b[39;49m\u001b[43m,\u001b[49m\u001b[43m \u001b[49m\u001b[38;5;241;43m-\u001b[39;49m\u001b[43mtorch\u001b[49m\u001b[38;5;241;43m.\u001b[39;49m\u001b[43minf\u001b[49m\u001b[43m)\u001b[49m\n\u001b[0;32m     35\u001b[0m attn_probs \u001b[38;5;241m=\u001b[39m F\u001b[38;5;241m.\u001b[39msoftmax(attn_scores, dim\u001b[38;5;241m=\u001b[39m\u001b[38;5;241m-\u001b[39m\u001b[38;5;241m1\u001b[39m)\n\u001b[0;32m     36\u001b[0m attn_probs \u001b[38;5;241m=\u001b[39m \u001b[38;5;28mself\u001b[39m\u001b[38;5;241m.\u001b[39mdropout(attn_probs)\n",
      "\u001b[1;31mRuntimeError\u001b[0m: The size of tensor a (2) must match the size of tensor b (8) at non-singleton dimension 2"
     ]
    }
   ],
   "source": [
    "test = MultiHeadedSelfAttention(4, 2, 0.1)\n",
    "x = torch.randn(2, 8, 4)\n",
    "mask = torch.tensor([[1, 1, 1, 1, 0, 0, 0, 0], [1, 1, 1, 1, 1, 0, 0, 0]]) # masking the last 4 tokens in the first sentence, and the last 3 tokens in the second sentence\n",
    "print(mask.shape)\n",
    "print(test(x, mask))"
   ]
  },
  {
   "cell_type": "code",
   "execution_count": null,
   "metadata": {},
   "outputs": [],
   "source": []
  }
 ],
 "metadata": {
  "kernelspec": {
   "display_name": "Python 3",
   "language": "python",
   "name": "python3"
  },
  "language_info": {
   "codemirror_mode": {
    "name": "ipython",
    "version": 3
   },
   "file_extension": ".py",
   "mimetype": "text/x-python",
   "name": "python",
   "nbconvert_exporter": "python",
   "pygments_lexer": "ipython3",
   "version": "3.12.7"
  }
 },
 "nbformat": 4,
 "nbformat_minor": 2
}
